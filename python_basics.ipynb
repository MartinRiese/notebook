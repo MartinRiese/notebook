{
 "cells": [
  {
   "cell_type": "markdown",
   "source": [
    "# For loops"
   ],
   "metadata": {
    "collapsed": false
   }
  },
  {
   "cell_type": "code",
   "execution_count": 1,
   "outputs": [],
   "source": [
    "fruit = [\"apple\", \"orange\", \"grape\", \"banana\", \"kiwi\"]\n",
    "veggie = [\"carrot\", \"tomato\", \"bean\", \"pea\"]"
   ],
   "metadata": {
    "collapsed": false
   }
  },
  {
   "cell_type": "markdown",
   "source": [
    "## Simple loop"
   ],
   "metadata": {
    "collapsed": false
   }
  },
  {
   "cell_type": "code",
   "execution_count": 2,
   "outputs": [
    {
     "name": "stdout",
     "output_type": "stream",
     "text": [
      "apple\n",
      "orange\n",
      "grape\n",
      "banana\n",
      "kiwi\n"
     ]
    }
   ],
   "source": [
    "for f in fruit:\n",
    "    print(f)"
   ],
   "metadata": {
    "collapsed": false
   }
  },
  {
   "cell_type": "markdown",
   "source": [
    "## With index"
   ],
   "metadata": {
    "collapsed": false
   }
  },
  {
   "cell_type": "code",
   "execution_count": 3,
   "outputs": [
    {
     "name": "stdout",
     "output_type": "stream",
     "text": [
      "0: apple\n",
      "1: orange\n",
      "2: grape\n",
      "3: banana\n",
      "4: kiwi\n"
     ]
    }
   ],
   "source": [
    "for i, f in enumerate(fruit):\n",
    "    print(f\"{i}: {f}\")"
   ],
   "metadata": {
    "collapsed": false
   }
  },
  {
   "cell_type": "markdown",
   "source": [
    "## Iterate over two lists in parallel"
   ],
   "metadata": {
    "collapsed": false
   }
  },
  {
   "cell_type": "code",
   "execution_count": 7,
   "outputs": [
    {
     "name": "stdout",
     "output_type": "stream",
     "text": [
      "apple, carrot\n",
      "orange, tomato\n",
      "grape, bean\n",
      "banana, pea\n"
     ]
    }
   ],
   "source": [
    "for f, v in zip(fruit, veggie):\n",
    "    print(f\"{f}, {v}\")"
   ],
   "metadata": {
    "collapsed": false
   }
  },
  {
   "cell_type": "markdown",
   "source": [
    "If the shorter list should repeat use `itertools.cycle`"
   ],
   "metadata": {
    "collapsed": false
   }
  },
  {
   "cell_type": "code",
   "execution_count": 6,
   "outputs": [
    {
     "name": "stdout",
     "output_type": "stream",
     "text": [
      "apple, carrot\n",
      "orange, tomato\n",
      "grape, bean\n",
      "banana, pea\n",
      "kiwi, carrot\n"
     ]
    }
   ],
   "source": [
    "import itertools\n",
    "for f, v in zip(fruit, itertools.cycle( veggie)):\n",
    "    print(f\"{f}, {v}\")"
   ],
   "metadata": {
    "collapsed": false
   }
  },
  {
   "cell_type": "code",
   "execution_count": null,
   "outputs": [],
   "source": [],
   "metadata": {
    "collapsed": false
   }
  }
 ],
 "metadata": {
  "kernelspec": {
   "display_name": "Python 3",
   "language": "python",
   "name": "python3"
  },
  "language_info": {
   "codemirror_mode": {
    "name": "ipython",
    "version": 2
   },
   "file_extension": ".py",
   "mimetype": "text/x-python",
   "name": "python",
   "nbconvert_exporter": "python",
   "pygments_lexer": "ipython2",
   "version": "2.7.6"
  }
 },
 "nbformat": 4,
 "nbformat_minor": 0
}
