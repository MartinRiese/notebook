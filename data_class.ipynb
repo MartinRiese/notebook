{
 "cells": [
  {
   "cell_type": "code",
   "execution_count": 1,
   "metadata": {
    "collapsed": true
   },
   "outputs": [],
   "source": [
    "import random\n",
    "import string\n",
    "from dataclasses import dataclass, field"
   ]
  },
  {
   "cell_type": "markdown",
   "source": [
    "Basic data class\n",
    "https://www.youtube.com/watch?v=CvQ7e6yUtnw"
   ],
   "metadata": {
    "collapsed": false
   }
  },
  {
   "cell_type": "code",
   "execution_count": 2,
   "outputs": [],
   "source": [
    "@dataclass\n",
    "class Bird:\n",
    "    name: str\n",
    "    wing_span_cm: int"
   ],
   "metadata": {
    "collapsed": false
   }
  },
  {
   "cell_type": "code",
   "execution_count": 3,
   "outputs": [
    {
     "data": {
      "text/plain": "Bird(name='crow', wing_span_cm=50)"
     },
     "execution_count": 3,
     "metadata": {},
     "output_type": "execute_result"
    }
   ],
   "source": [
    "b = Bird(\"crow\", 50)\n",
    "b"
   ],
   "metadata": {
    "collapsed": false
   }
  },
  {
   "cell_type": "markdown",
   "source": [
    "Properties can have default values and other attributes"
   ],
   "metadata": {
    "collapsed": false
   }
  },
  {
   "cell_type": "code",
   "execution_count": 14,
   "outputs": [],
   "source": [
    "def generate_id() -> str:\n",
    "    return \"\".join(random.choices(string.ascii_uppercase, k=12))\n",
    "\n",
    "@dataclass\n",
    "class Feature:\n",
    "    name: str\n",
    "    enabled: bool = True\n",
    "    sub_features: list[str] = field(default_factory=list)\n",
    "    uuid: str = field(init=False, default_factory=generate_id) #init=False prevents user from being able to set the fields\n",
    "    hidden: str = field(default=\"secret\" ,repr=False) # won't show up in the string representation"
   ],
   "metadata": {
    "collapsed": false
   }
  },
  {
   "cell_type": "code",
   "execution_count": 15,
   "outputs": [
    {
     "data": {
      "text/plain": "Feature(name='ABC', enabled=True, sub_features=[], uuid='PCECQRIFCDQH')"
     },
     "execution_count": 15,
     "metadata": {},
     "output_type": "execute_result"
    }
   ],
   "source": [
    "f = Feature(\"ABC\")\n",
    "f"
   ],
   "metadata": {
    "collapsed": false
   }
  },
  {
   "cell_type": "code",
   "execution_count": 16,
   "outputs": [
    {
     "data": {
      "text/plain": "'secret'"
     },
     "execution_count": 16,
     "metadata": {},
     "output_type": "execute_result"
    }
   ],
   "source": [
    "f.hidden"
   ],
   "metadata": {
    "collapsed": false
   }
  },
  {
   "cell_type": "markdown",
   "source": [
    "Make data classes immutable"
   ],
   "metadata": {
    "collapsed": false
   }
  },
  {
   "cell_type": "code",
   "execution_count": 19,
   "outputs": [
    {
     "ename": "FrozenInstanceError",
     "evalue": "cannot assign to field 'id'",
     "output_type": "error",
     "traceback": [
      "\u001B[0;31m---------------------------------------------------------------------------\u001B[0m",
      "\u001B[0;31mFrozenInstanceError\u001B[0m                       Traceback (most recent call last)",
      "Cell \u001B[0;32mIn[19], line 7\u001B[0m\n\u001B[1;32m      4\u001B[0m     shape: \u001B[38;5;28mstr\u001B[39m\n\u001B[1;32m      6\u001B[0m s \u001B[38;5;241m=\u001B[39m SnowFlake(\u001B[38;5;241m1\u001B[39m, \u001B[38;5;124m\"\u001B[39m\u001B[38;5;124mstar\u001B[39m\u001B[38;5;124m\"\u001B[39m)\n\u001B[0;32m----> 7\u001B[0m \u001B[43ms\u001B[49m\u001B[38;5;241;43m.\u001B[39;49m\u001B[43mid\u001B[49m \u001B[38;5;241m=\u001B[39m \u001B[38;5;241m2\u001B[39m\n",
      "File \u001B[0;32m<string>:4\u001B[0m, in \u001B[0;36m__setattr__\u001B[0;34m(self, name, value)\u001B[0m\n",
      "\u001B[0;31mFrozenInstanceError\u001B[0m: cannot assign to field 'id'"
     ]
    }
   ],
   "source": [
    "@dataclass(frozen=True)\n",
    "class SnowFlake:\n",
    "    id: int\n",
    "    shape: str\n",
    "\n",
    "s = SnowFlake(1, \"star\")\n",
    "s.id = 2"
   ],
   "metadata": {
    "collapsed": false
   }
  },
  {
   "cell_type": "code",
   "execution_count": null,
   "outputs": [],
   "source": [],
   "metadata": {
    "collapsed": false
   }
  }
 ],
 "metadata": {
  "kernelspec": {
   "display_name": "Python 3",
   "language": "python",
   "name": "python3"
  },
  "language_info": {
   "codemirror_mode": {
    "name": "ipython",
    "version": 2
   },
   "file_extension": ".py",
   "mimetype": "text/x-python",
   "name": "python",
   "nbconvert_exporter": "python",
   "pygments_lexer": "ipython2",
   "version": "2.7.6"
  }
 },
 "nbformat": 4,
 "nbformat_minor": 0
}
